{
 "cells": [
  {
   "cell_type": "code",
   "execution_count": 6,
   "metadata": {},
   "outputs": [],
   "source": [
    "# Filepaths, numpy, and Tensorflow\n",
    "import os\n",
    "\n",
    "import numpy as np\n",
    "np.random.seed(0)\n"
   ]
  },
  {
   "cell_type": "code",
   "execution_count": 8,
   "metadata": {},
   "outputs": [
    {
     "data": {
      "text/plain": [
       "['altocumulus',\n",
       " 'altostratus',\n",
       " 'cirrocumulus',\n",
       " 'cirrostratus',\n",
       " 'cirrus',\n",
       " 'cumulonimbus',\n",
       " 'cumulus',\n",
       " 'nimbostratus',\n",
       " 'stratocumulus',\n",
       " 'stratus',\n",
       " 'unknown']"
      ]
     },
     "execution_count": 8,
     "metadata": {},
     "output_type": "execute_result"
    }
   ],
   "source": [
    "# Load list of clouds in order\n",
    "cwd_path = os.getcwd()\n",
    "images_path = os.path.join(cwd_path, 'image_dataset/dataset')\n",
    "\n",
    "# List the clouds in the dataset folder: 10 Clouds\n",
    "list_clouds = [name for name in os.listdir(images_path)]\n",
    "# list_clouds.remove('.DS_Store')\n",
    "list_clouds.sort()\n",
    "list_clouds"
   ]
  },
  {
   "cell_type": "code",
   "execution_count": 9,
   "metadata": {},
   "outputs": [],
   "source": [
    "# Load numpy saved XY_train dataset\n",
    "cwd_path = os.getcwd()\n",
    "outfile_path = os.path.join(cwd_path, 'XY_train')\n",
    "\n",
    "# Initialize numpy clouds data with all zeros\n",
    "X = np.zeros((1,224,224,3))\n",
    "y = np.zeros((1,1))\n",
    "\n",
    "# Merge all cloud datasets in X, y\n",
    "for cloud in list_clouds:\n",
    "    temp_X = np.load(os.path.join(outfile_path, f\"{cloud}_X.npy\"))\n",
    "    temp_y = np.load(os.path.join(outfile_path, f\"{cloud}_y.npy\"))\n",
    "    X = np.append(X, temp_X, axis=0)\n",
    "    y = np.append(y, temp_y, axis=0)\n",
    "    "
   ]
  },
  {
   "cell_type": "code",
   "execution_count": 10,
   "metadata": {},
   "outputs": [
    {
     "name": "stdout",
     "output_type": "stream",
     "text": [
      "(3066, 224, 224, 3)\n",
      "(3066, 1)\n"
     ]
    }
   ],
   "source": [
    "# Peek at X, y shapes\n",
    "print(X.shape)\n",
    "print(y.shape)"
   ]
  },
  {
   "cell_type": "code",
   "execution_count": 11,
   "metadata": {},
   "outputs": [],
   "source": [
    "# split 80% train and 20% test\n",
    "from sklearn.model_selection import train_test_split\n",
    "\n",
    "X_train, X_test, y_train, y_test = train_test_split(X, y, random_state=1)"
   ]
  },
  {
   "cell_type": "code",
   "execution_count": 6,
   "metadata": {},
   "outputs": [
    {
     "name": "stderr",
     "output_type": "stream",
     "text": [
      "Using TensorFlow backend.\n",
      "/anaconda3/envs/PythonData/lib/python3.6/site-packages/sklearn/preprocessing/label.py:95: DataConversionWarning: A column-vector y was passed when a 1d array was expected. Please change the shape of y to (n_samples, ), for example using ravel().\n",
      "  y = column_or_1d(y, warn=True)\n",
      "/anaconda3/envs/PythonData/lib/python3.6/site-packages/sklearn/preprocessing/label.py:128: DataConversionWarning: A column-vector y was passed when a 1d array was expected. Please change the shape of y to (n_samples, ), for example using ravel().\n",
      "  y = column_or_1d(y, warn=True)\n"
     ]
    }
   ],
   "source": [
    "from sklearn.preprocessing import LabelEncoder\n",
    "from keras.utils import to_categorical\n",
    "\n",
    "# Step 1: Label-encode data set\n",
    "label_encoder = LabelEncoder()\n",
    "label_encoder.fit(y_train)\n",
    "encoded_y_train = label_encoder.transform(y_train)\n",
    "encoded_y_test = label_encoder.transform(y_test)\n",
    "\n",
    "# Step 2: Convert encoded labels to one-hot-encoding\n",
    "y_train_categorical = to_categorical(encoded_y_train)\n",
    "y_test_categorical = to_categorical(encoded_y_test)"
   ]
  },
  {
   "cell_type": "code",
   "execution_count": 7,
   "metadata": {},
   "outputs": [
    {
     "name": "stdout",
     "output_type": "stream",
     "text": [
      "_________________________________________________________________\n",
      "Layer (type)                 Output Shape              Param #   \n",
      "=================================================================\n",
      "conv2d_1 (Conv2D)            (None, 54, 54, 96)        34944     \n",
      "_________________________________________________________________\n",
      "activation_1 (Activation)    (None, 54, 54, 96)        0         \n",
      "_________________________________________________________________\n",
      "max_pooling2d_1 (MaxPooling2 (None, 27, 27, 96)        0         \n",
      "_________________________________________________________________\n",
      "batch_normalization_1 (Batch (None, 27, 27, 96)        384       \n",
      "_________________________________________________________________\n",
      "conv2d_2 (Conv2D)            (None, 17, 17, 256)       2973952   \n",
      "_________________________________________________________________\n",
      "activation_2 (Activation)    (None, 17, 17, 256)       0         \n",
      "_________________________________________________________________\n",
      "max_pooling2d_2 (MaxPooling2 (None, 8, 8, 256)         0         \n",
      "_________________________________________________________________\n",
      "batch_normalization_2 (Batch (None, 8, 8, 256)         1024      \n",
      "_________________________________________________________________\n",
      "conv2d_3 (Conv2D)            (None, 6, 6, 384)         885120    \n",
      "_________________________________________________________________\n",
      "activation_3 (Activation)    (None, 6, 6, 384)         0         \n",
      "_________________________________________________________________\n",
      "batch_normalization_3 (Batch (None, 6, 6, 384)         1536      \n",
      "_________________________________________________________________\n",
      "conv2d_4 (Conv2D)            (None, 4, 4, 384)         1327488   \n",
      "_________________________________________________________________\n",
      "activation_4 (Activation)    (None, 4, 4, 384)         0         \n",
      "_________________________________________________________________\n",
      "batch_normalization_4 (Batch (None, 4, 4, 384)         1536      \n",
      "_________________________________________________________________\n",
      "conv2d_5 (Conv2D)            (None, 2, 2, 256)         884992    \n",
      "_________________________________________________________________\n",
      "activation_5 (Activation)    (None, 2, 2, 256)         0         \n",
      "_________________________________________________________________\n",
      "max_pooling2d_3 (MaxPooling2 (None, 1, 1, 256)         0         \n",
      "_________________________________________________________________\n",
      "batch_normalization_5 (Batch (None, 1, 1, 256)         1024      \n",
      "_________________________________________________________________\n",
      "flatten_1 (Flatten)          (None, 256)               0         \n",
      "_________________________________________________________________\n",
      "dense_1 (Dense)              (None, 4096)              1052672   \n",
      "_________________________________________________________________\n",
      "activation_6 (Activation)    (None, 4096)              0         \n",
      "_________________________________________________________________\n",
      "dropout_1 (Dropout)          (None, 4096)              0         \n",
      "_________________________________________________________________\n",
      "batch_normalization_6 (Batch (None, 4096)              16384     \n",
      "_________________________________________________________________\n",
      "dense_2 (Dense)              (None, 4096)              16781312  \n",
      "_________________________________________________________________\n",
      "activation_7 (Activation)    (None, 4096)              0         \n",
      "_________________________________________________________________\n",
      "dropout_2 (Dropout)          (None, 4096)              0         \n",
      "_________________________________________________________________\n",
      "batch_normalization_7 (Batch (None, 4096)              16384     \n",
      "_________________________________________________________________\n",
      "dense_3 (Dense)              (None, 1000)              4097000   \n",
      "_________________________________________________________________\n",
      "activation_8 (Activation)    (None, 1000)              0         \n",
      "_________________________________________________________________\n",
      "dropout_3 (Dropout)          (None, 1000)              0         \n",
      "_________________________________________________________________\n",
      "batch_normalization_8 (Batch (None, 1000)              4000      \n",
      "_________________________________________________________________\n",
      "dense_4 (Dense)              (None, 11)                11011     \n",
      "_________________________________________________________________\n",
      "activation_9 (Activation)    (None, 11)                0         \n",
      "=================================================================\n",
      "Total params: 28,090,763\n",
      "Trainable params: 28,069,627\n",
      "Non-trainable params: 21,136\n",
      "_________________________________________________________________\n"
     ]
    }
   ],
   "source": [
    "# (1) Importing dependency\n",
    "import keras\n",
    "from keras.models import Sequential\n",
    "from keras.layers import Dense, Activation, Dropout, Flatten,\\\n",
    " Conv2D, MaxPooling2D\n",
    "from keras.layers.normalization import BatchNormalization\n",
    "import numpy as np\n",
    "np.random.seed(1000)\n",
    "\n",
    "# (2) Get Data\n",
    "# Done above cell\n",
    "\n",
    "# (3) Create a sequential model\n",
    "model = Sequential()\n",
    "\n",
    "# 1st Convolutional Layer\n",
    "model.add(Conv2D(filters=96, input_shape=(224,224,3), kernel_size=(11,11),\\\n",
    " strides=(4,4), padding='valid'))\n",
    "model.add(Activation('relu'))\n",
    "# Pooling \n",
    "model.add(MaxPooling2D(pool_size=(2,2), strides=(2,2), padding='valid'))\n",
    "# Batch Normalisation before passing it to the next layer\n",
    "model.add(BatchNormalization())\n",
    "\n",
    "# 2nd Convolutional Layer\n",
    "model.add(Conv2D(filters=256, kernel_size=(11,11), strides=(1,1), padding='valid'))\n",
    "model.add(Activation('relu'))\n",
    "# Pooling\n",
    "model.add(MaxPooling2D(pool_size=(2,2), strides=(2,2), padding='valid'))\n",
    "# Batch Normalisation\n",
    "model.add(BatchNormalization())\n",
    "\n",
    "# 3rd Convolutional Layer\n",
    "model.add(Conv2D(filters=384, kernel_size=(3,3), strides=(1,1), padding='valid'))\n",
    "model.add(Activation('relu'))\n",
    "# Batch Normalisation\n",
    "model.add(BatchNormalization())\n",
    "\n",
    "# 4th Convolutional Layer\n",
    "model.add(Conv2D(filters=384, kernel_size=(3,3), strides=(1,1), padding='valid'))\n",
    "model.add(Activation('relu'))\n",
    "# Batch Normalisation\n",
    "model.add(BatchNormalization())\n",
    "\n",
    "# 5th Convolutional Layer\n",
    "model.add(Conv2D(filters=256, kernel_size=(3,3), strides=(1,1), padding='valid'))\n",
    "model.add(Activation('relu'))\n",
    "# Pooling\n",
    "model.add(MaxPooling2D(pool_size=(2,2), strides=(2,2), padding='valid'))\n",
    "# Batch Normalisation\n",
    "model.add(BatchNormalization())\n",
    "\n",
    "# Passing it to a dense layer\n",
    "model.add(Flatten())\n",
    "# 1st Dense Layer\n",
    "model.add(Dense(4096, input_shape=(224*224*3,)))\n",
    "model.add(Activation('relu'))\n",
    "# Add Dropout to prevent overfitting\n",
    "model.add(Dropout(0.4))\n",
    "# Batch Normalisation\n",
    "model.add(BatchNormalization())\n",
    "\n",
    "# 2nd Dense Layer\n",
    "model.add(Dense(4096))\n",
    "model.add(Activation('relu'))\n",
    "# Add Dropout\n",
    "model.add(Dropout(0.4))\n",
    "# Batch Normalisation\n",
    "model.add(BatchNormalization())\n",
    "\n",
    "# 3rd Dense Layer\n",
    "model.add(Dense(1000))\n",
    "model.add(Activation('relu'))\n",
    "# Add Dropout\n",
    "model.add(Dropout(0.4))\n",
    "# Batch Normalisation\n",
    "model.add(BatchNormalization())\n",
    "\n",
    "# Output Layer\n",
    "model.add(Dense(11))\n",
    "model.add(Activation('softmax'))\n",
    "\n",
    "model.summary()\n",
    "\n",
    "# (4) Compile \n",
    "model.compile(loss='categorical_crossentropy', optimizer='adam',\\\n",
    " metrics=['accuracy'])"
   ]
  },
  {
   "cell_type": "code",
   "execution_count": 8,
   "metadata": {},
   "outputs": [
    {
     "name": "stdout",
     "output_type": "stream",
     "text": [
      "Epoch 1/50\n",
      " - 124s - loss: 2.8012 - acc: 0.2323\n",
      "Epoch 2/50\n",
      " - 106s - loss: 2.2347 - acc: 0.2993\n",
      "Epoch 3/50\n",
      " - 106s - loss: 2.1294 - acc: 0.3080\n",
      "Epoch 4/50\n",
      " - 105s - loss: 1.9475 - acc: 0.3658\n",
      "Epoch 5/50\n",
      " - 105s - loss: 1.8588 - acc: 0.3710\n",
      "Epoch 6/50\n",
      " - 103s - loss: 1.7655 - acc: 0.3889\n",
      "Epoch 7/50\n",
      " - 103s - loss: 1.7623 - acc: 0.3971\n",
      "Epoch 8/50\n",
      " - 102s - loss: 1.6712 - acc: 0.4245\n",
      "Epoch 9/50\n",
      " - 103s - loss: 1.6475 - acc: 0.4328\n",
      "Epoch 10/50\n",
      " - 102s - loss: 1.5843 - acc: 0.4298\n",
      "Epoch 11/50\n",
      " - 102s - loss: 1.5006 - acc: 0.4672\n",
      "Epoch 12/50\n",
      " - 457s - loss: 1.4308 - acc: 0.4976\n",
      "Epoch 13/50\n",
      " - 111s - loss: 1.4170 - acc: 0.4972\n",
      "Epoch 14/50\n",
      " - 105s - loss: 1.3891 - acc: 0.5150\n",
      "Epoch 15/50\n",
      " - 111s - loss: 1.3144 - acc: 0.5259\n",
      "Epoch 16/50\n",
      " - 113s - loss: 1.3370 - acc: 0.5302\n",
      "Epoch 17/50\n",
      " - 107s - loss: 1.3064 - acc: 0.5268\n",
      "Epoch 18/50\n",
      " - 107s - loss: 1.1750 - acc: 0.5881\n",
      "Epoch 19/50\n",
      " - 107s - loss: 1.1609 - acc: 0.5863\n",
      "Epoch 20/50\n",
      " - 107s - loss: 1.1522 - acc: 0.5850\n",
      "Epoch 21/50\n",
      " - 108s - loss: 1.1475 - acc: 0.5937\n",
      "Epoch 22/50\n",
      " - 107s - loss: 1.0417 - acc: 0.6185\n",
      "Epoch 23/50\n",
      " - 107s - loss: 1.0221 - acc: 0.6416\n",
      "Epoch 24/50\n",
      " - 103s - loss: 0.9414 - acc: 0.6559\n",
      "Epoch 25/50\n",
      " - 104s - loss: 0.8663 - acc: 0.6833\n",
      "Epoch 26/50\n",
      " - 104s - loss: 0.8949 - acc: 0.6855\n",
      "Epoch 27/50\n",
      " - 105s - loss: 0.8084 - acc: 0.7216\n",
      "Epoch 28/50\n",
      " - 109s - loss: 0.8136 - acc: 0.7090\n",
      "Epoch 29/50\n",
      " - 107s - loss: 0.7362 - acc: 0.7368\n",
      "Epoch 30/50\n",
      " - 105s - loss: 0.7845 - acc: 0.7342\n",
      "Epoch 31/50\n",
      " - 106s - loss: 0.6927 - acc: 0.7573\n",
      "Epoch 32/50\n",
      " - 110s - loss: 0.6359 - acc: 0.7664\n",
      "Epoch 33/50\n",
      " - 107s - loss: 0.6206 - acc: 0.7886\n",
      "Epoch 34/50\n",
      " - 108s - loss: 0.5980 - acc: 0.7851\n",
      "Epoch 35/50\n",
      " - 108s - loss: 0.5603 - acc: 0.7938\n",
      "Epoch 36/50\n",
      " - 107s - loss: 0.5741 - acc: 0.7999\n",
      "Epoch 37/50\n",
      " - 108s - loss: 0.4981 - acc: 0.8204\n",
      "Epoch 38/50\n",
      " - 108s - loss: 0.5182 - acc: 0.8151\n",
      "Epoch 39/50\n",
      " - 108s - loss: 0.4378 - acc: 0.8478\n",
      "Epoch 40/50\n",
      " - 109s - loss: 0.4680 - acc: 0.8360\n",
      "Epoch 41/50\n",
      " - 109s - loss: 0.4076 - acc: 0.8560\n",
      "Epoch 42/50\n",
      " - 109s - loss: 0.4148 - acc: 0.8556\n",
      "Epoch 43/50\n",
      " - 110s - loss: 0.3575 - acc: 0.8669\n",
      "Epoch 44/50\n",
      " - 111s - loss: 0.4183 - acc: 0.8538\n",
      "Epoch 45/50\n",
      " - 107s - loss: 0.3996 - acc: 0.8560\n",
      "Epoch 46/50\n",
      " - 108s - loss: 0.3735 - acc: 0.8704\n",
      "Epoch 47/50\n",
      " - 107s - loss: 0.3927 - acc: 0.8625\n",
      "Epoch 48/50\n",
      " - 111s - loss: 0.3309 - acc: 0.8799\n",
      "Epoch 49/50\n",
      " - 111s - loss: 0.2938 - acc: 0.8934\n",
      "Epoch 50/50\n",
      " - 112s - loss: 0.3124 - acc: 0.8886\n",
      "CPU times: user 6h 53min 37s, sys: 1h 35min 46s, total: 8h 29min 23s\n",
      "Wall time: 1h 35min 19s\n"
     ]
    },
    {
     "data": {
      "text/plain": [
       "<keras.callbacks.History at 0x1cc3fd828>"
      ]
     },
     "execution_count": 8,
     "metadata": {},
     "output_type": "execute_result"
    }
   ],
   "source": [
    "%%time\n",
    "# (5) Train\n",
    "model.fit(\n",
    "    X_train,\n",
    "    y_train_categorical,\n",
    "    epochs=50,\n",
    "    shuffle=True,\n",
    "    verbose=2\n",
    ")"
   ]
  },
  {
   "cell_type": "code",
   "execution_count": 4,
   "metadata": {},
   "outputs": [],
   "source": [
    "# Save the model\n",
    "from keras.models import load_model\n",
    "\n",
    "cwd_path = os.getcwd()\n",
    "model_path = os.path.join(cwd_path, 'trained_models/iResV2_trained.h5')\n",
    "\n",
    "model = load_model(model_path)"
   ]
  },
  {
   "cell_type": "code",
   "execution_count": 5,
   "metadata": {},
   "outputs": [
    {
     "ename": "NameError",
     "evalue": "name 'X_test' is not defined",
     "output_type": "error",
     "traceback": [
      "\u001b[1;31m---------------------------------------------------------------------------\u001b[0m",
      "\u001b[1;31mNameError\u001b[0m                                 Traceback (most recent call last)",
      "\u001b[1;32m<ipython-input-5-4578542a8492>\u001b[0m in \u001b[0;36m<module>\u001b[1;34m()\u001b[0m\n\u001b[0;32m      1\u001b[0m \u001b[1;31m# Test predictions\u001b[0m\u001b[1;33m\u001b[0m\u001b[1;33m\u001b[0m\u001b[0m\n\u001b[1;32m----> 2\u001b[1;33m \u001b[0mencoded_predictions\u001b[0m \u001b[1;33m=\u001b[0m \u001b[0mmodel\u001b[0m\u001b[1;33m.\u001b[0m\u001b[0mpredict\u001b[0m\u001b[1;33m(\u001b[0m\u001b[0mX_test\u001b[0m\u001b[1;33m)\u001b[0m\u001b[1;33m\u001b[0m\u001b[0m\n\u001b[0m\u001b[0;32m      3\u001b[0m \u001b[0mprediction_labels\u001b[0m \u001b[1;33m=\u001b[0m \u001b[0mlabel_encoder\u001b[0m\u001b[1;33m.\u001b[0m\u001b[0minverse_transform\u001b[0m\u001b[1;33m(\u001b[0m\u001b[0mencoded_predictions\u001b[0m\u001b[1;33m)\u001b[0m\u001b[1;33m\u001b[0m\u001b[0m\n",
      "\u001b[1;31mNameError\u001b[0m: name 'X_test' is not defined"
     ]
    }
   ],
   "source": [
    "# Test predictions\n",
    "encoded_predictions = model.predict(X_test[:5])\n",
    "prediction_labels = label_encoder.inverse_transform(encoded_predictions)"
   ]
  },
  {
   "cell_type": "code",
   "execution_count": 10,
   "metadata": {},
   "outputs": [
    {
     "name": "stderr",
     "output_type": "stream",
     "text": [
      "/anaconda3/envs/PythonData/lib/python3.6/site-packages/sklearn/preprocessing/label.py:151: DeprecationWarning: The truth value of an empty array is ambiguous. Returning False, but in future this will result in an error. Use `array.size > 0` to check that an array is not empty.\n",
      "  if diff:\n"
     ]
    }
   ],
   "source": [
    "# Test predictions\n",
    "encoded_predictions = model.predict_classes(X_test[:5])\n",
    "prediction_labels = label_encoder.inverse_transform(encoded_predictions)\n",
    "\n",
    "# predictions = model.predict_classes(X_test[:5])\n",
    "# y_test[:5]"
   ]
  },
  {
   "cell_type": "code",
   "execution_count": 11,
   "metadata": {},
   "outputs": [
    {
     "name": "stdout",
     "output_type": "stream",
     "text": [
      "Predicted classes: [4. 6. 6. 0. 6.]\n",
      "Actual Labels: [3, 1, 3, 2, 6]\n"
     ]
    }
   ],
   "source": [
    "print(f\"Predicted classes: {prediction_labels}\")\n",
    "print(f\"Actual Labels: {list(encoded_y_train[:5])}\")"
   ]
  },
  {
   "cell_type": "code",
   "execution_count": 12,
   "metadata": {},
   "outputs": [
    {
     "name": "stdout",
     "output_type": "stream",
     "text": [
      "AlexNet - Loss: 2.082758757095138, Accuracy: 0.559322033393181\n"
     ]
    }
   ],
   "source": [
    "# Evaluating the loaded model\n",
    "model_loss, model_accuracy = model.evaluate(\n",
    "    X_test, y_test_categorical, verbose=2)\n",
    "print(f\"AlexNet - Loss: {model_loss}, Accuracy: {model_accuracy}\")"
   ]
  },
  {
   "cell_type": "code",
   "execution_count": 13,
   "metadata": {},
   "outputs": [
    {
     "name": "stdout",
     "output_type": "stream",
     "text": [
      "actual target:  cumulonimbus\n",
      "predict target:  altostratus\n"
     ]
    }
   ],
   "source": [
    "ix_img = 10\n",
    "img = X_test[ix_img].reshape(1,224,224,3)\n",
    "\n",
    "# Test image\n",
    "predict = np.argmax(model.predict(img))\n",
    "\n",
    "print(\"actual target: \", list_clouds[encoded_y_train[ix_img]])\n",
    "print(\"predict target: \", list_clouds[predict])"
   ]
  },
  {
   "cell_type": "code",
   "execution_count": 15,
   "metadata": {},
   "outputs": [
    {
     "name": "stderr",
     "output_type": "stream",
     "text": [
      "Clipping input data to the valid range for imshow with RGB data ([0..1] for floats or [0..255] for integers).\n"
     ]
    },
    {
     "data": {
      "image/png": "[encoded data removed]",
      "text/plain": [
       "<Figure size 432x288 with 1 Axes>"
      ]
     },
     "metadata": {},
     "output_type": "display_data"
    }
   ],
   "source": [
    "import matplotlib.pyplot as plt\n",
    "import matplotlib.image as mpimg\n",
    "\n",
    "imgplot = plt.imshow(X_test[ix_img])"
   ]
  },
  {
   "cell_type": "code",
   "execution_count": null,
   "metadata": {},
   "outputs": [],
   "source": []
  }
 ],
 "metadata": {
  "kernelspec": {
   "display_name": "Python 3",
   "language": "python",
   "name": "python3"
  },
  "language_info": {
   "codemirror_mode": {
    "name": "ipython",
    "version": 3
   },
   "file_extension": ".py",
   "mimetype": "text/x-python",
   "name": "python",
   "nbconvert_exporter": "python",
   "pygments_lexer": "ipython3",
   "version": "3.6.5"
  }
 },
 "nbformat": 4,
 "nbformat_minor": 2
}

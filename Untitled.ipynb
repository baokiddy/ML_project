{
 "cells": [
  {
   "cell_type": "markdown",
   "metadata": {},
   "source": [
    "## Importing the Required Libraries"
   ]
  },
  {
   "cell_type": "code",
   "execution_count": 3,
   "metadata": {},
   "outputs": [],
   "source": [
    "import numpy as np\n",
    "import pandas as pd\n",
    "import tensorflow as tf\n",
    "from tensorflow import keras\n",
    "from tensorflow.keras import backend\n",
    "from tensorflow.keras.layers import Dense, Dropout, Flatten, Activation, Concatenate, Lambda\n",
    "from tensorflow.keras.models import Model\n",
    "from tensorflow.keras.callbacks import EarlyStopping, ReduceLROnPlateau, ModelCheckpoint\n",
    "from tensorflow.keras.optimizers import Adam\n",
    "from tensorflow.keras import regularizers, activations\n",
    "import os\n",
    "from sklearn.utils import shuffle\n",
    "from sklearn.metrics import classification_report, confusion_matrix, roc_curve, auc\n",
    "from sklearn.model_selection import train_test_split\n",
    "import matplotlib.pyplot as plt\n",
    "import matplotlib.image as mpimg\n",
    "from keras.applications.inception_resnet_v2 import InceptionResNetV2\n",
    "#import itertools\n",
    "#import shutil\n",
    "%matplotlib inline"
   ]
  },
  {
   "cell_type": "markdown",
   "metadata": {},
   "source": [
    "## Importing Image Dataset"
   ]
  },
  {
   "cell_type": "code",
   "execution_count": null,
   "metadata": {},
   "outputs": [],
   "source": [
    "cwd_path = os.getcwd()\n",
    "images_path = os.path.join(cwd_path, 'image_dataset/dataset')\n",
    "\n",
    "# List the clouds in the dataset folder: 10 Clouds\n",
    "list_clouds = [name for name in os.listdir(images_path)]\n",
    "# Was not required for MS OS\n",
    "#list_clouds.remove('.DS_Store')\n",
    "list_clouds"
   ]
  },
  {
   "cell_type": "code",
   "execution_count": null,
   "metadata": {},
   "outputs": [],
   "source": [
    "# Create dictionary to store the list of image files based off cloud name\n",
    "dict_clouds = {}\n",
    "\n",
    "# Loop thru list of clouds\n",
    "for cloud in list_clouds:\n",
    "    # Get files based off each cloud\n",
    "    cloud_path = os.path.join(images_path, cloud + '/positive')\n",
    "    files = [os.path.join(cloud_path, f) for f in os.listdir(cloud_path) if os.path.isfile(os.path.join(cloud_path, f))]\n",
    "    # add cloud and file list into dictionary\n",
    "    dict_clouds[cloud] = files\n",
    "\n",
    "len(dict_clouds)"
   ]
  },
  {
   "cell_type": "markdown",
   "metadata": {},
   "source": [
    "## Image Pre-processing"
   ]
  },
  {
   "cell_type": "code",
   "execution_count": null,
   "metadata": {},
   "outputs": [],
   "source": [
    "def prepare_image(img):\n",
    "    # Convert the image to a numpy array\n",
    "    img = image.img_to_array(img)\n",
    "    # Scale from 0 to 255\n",
    "    img /= 255\n",
    "    # Invert the pixels\n",
    "    img = 1 - img\n",
    "    # Flatten the image to an array of pixels\n",
    "    image_array = img.flatten().reshape(-1, 299 * 299)\n",
    "    # Return the processed feature array\n",
    "    return image_array"
   ]
  },
  {
   "cell_type": "code",
   "execution_count": null,
   "metadata": {},
   "outputs": [],
   "source": [
    "from keras.preprocessing import image\n",
    "# Load the saved image using Keras and resize it to the\n",
    "# format of 299x299 pixels\n",
    "image_size = (299, 299)\n",
    "filepath = dict_clouds['cirrus'][0]\n",
    "im = image.load_img(filepath, target_size=image_size,\n",
    "                    grayscale=True)\n",
    "\n",
    "# Convert the 2D image to an array of pixel values\n",
    "image_array = prepare_image(im)\n",
    "\n",
    "img = image.load_img(filepath, target_size=image_size)\n",
    "print(image_array)"
   ]
  },
  {
   "cell_type": "code",
   "execution_count": null,
   "metadata": {},
   "outputs": [],
   "source": [
    "# Load image and resize to the input dimensions that InceptionResnetV2 will use for training\n",
    "imgplot = plt.imshow(img)"
   ]
  },
  {
   "cell_type": "markdown",
   "metadata": {},
   "source": [
    "## Split Data for training"
   ]
  },
  {
   "cell_type": "code",
   "execution_count": null,
   "metadata": {},
   "outputs": [],
   "source": [
    "# Split data for training and testing\n",
    "from sklearn.model_selection import train_test_split\n",
    "\n",
    "X_train, X_test, y_train, y_test = train_test_split(X, y, random_state=1)"
   ]
  },
  {
   "cell_type": "markdown",
   "metadata": {},
   "source": [
    "## Configure the Model for Training"
   ]
  },
  {
   "cell_type": "code",
   "execution_count": null,
   "metadata": {},
   "outputs": [],
   "source": [
    "# Model soucre - https://keras.io/applications/#inceptionresnetv2\n",
    "model = InceptionResNetV2(include_top=True, weights=None, input_tensor=None, input_shape=None, pooling=None, classes=11)"
   ]
  },
  {
   "cell_type": "code",
   "execution_count": null,
   "metadata": {},
   "outputs": [],
   "source": [
    "# Compile model\n",
    "model.compile(Adam(lr=0.0001), \n",
    "              loss=’binary_crossentropy’,\n",
    "              metrics=[‘accuracy’])"
   ]
  },
  {
   "cell_type": "code",
   "execution_count": null,
   "metadata": {},
   "outputs": [],
   "source": [
    "# Summarize our model\n",
    "model.summary()"
   ]
  },
  {
   "cell_type": "markdown",
   "metadata": {},
   "source": [
    "## Model Checkpoint"
   ]
  },
  {
   "cell_type": "code",
   "execution_count": null,
   "metadata": {},
   "outputs": [],
   "source": [
    "filepath = “model.h5”\n",
    "checkpoint = ModelCheckpoint(filepath, monitor=’val_acc’, \n",
    "                        verbose=1, save_best_only=True, mode=’max’)"
   ]
  },
  {
   "cell_type": "code",
   "execution_count": null,
   "metadata": {},
   "outputs": [],
   "source": []
  },
  {
   "cell_type": "code",
   "execution_count": null,
   "metadata": {},
   "outputs": [],
   "source": []
  }
 ],
 "metadata": {
  "kernelspec": {
   "display_name": "Python 3",
   "language": "python",
   "name": "python3"
  },
  "language_info": {
   "codemirror_mode": {
    "name": "ipython",
    "version": 3
   },
   "file_extension": ".py",
   "mimetype": "text/x-python",
   "name": "python",
   "nbconvert_exporter": "python",
   "pygments_lexer": "ipython3",
   "version": "3.6.5"
  }
 },
 "nbformat": 4,
 "nbformat_minor": 2
}

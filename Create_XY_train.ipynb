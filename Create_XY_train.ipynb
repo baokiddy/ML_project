{
 "cells": [
  {
   "cell_type": "code",
   "execution_count": 1,
   "metadata": {},
   "outputs": [
    {
     "name": "stderr",
     "output_type": "stream",
     "text": [
      "Using TensorFlow backend.\n"
     ]
    }
   ],
   "source": [
    "# Filepaths, numpy, and Tensorflow\n",
    "import os\n",
    "\n",
    "import numpy as np\n",
    "np.random.seed(0)\n",
    "\n",
    "import keras\n",
    "from keras.preprocessing import image\n",
    "from keras.preprocessing.image import img_to_array\n",
    "from keras.applications.xception import (\n",
    "    Xception, preprocess_input, decode_predictions)"
   ]
  },
  {
   "cell_type": "code",
   "execution_count": 2,
   "metadata": {},
   "outputs": [
    {
     "data": {
      "text/plain": [
       "['altocumulus',\n",
       " 'altostratus',\n",
       " 'cirrocumulus',\n",
       " 'cirrostratus',\n",
       " 'cirrus',\n",
       " 'cumulonimbus',\n",
       " 'cumulus',\n",
       " 'nimbostratus',\n",
       " 'stratocumulus',\n",
       " 'stratus',\n",
       " 'unknown']"
      ]
     },
     "execution_count": 2,
     "metadata": {},
     "output_type": "execute_result"
    }
   ],
   "source": [
    "cwd_path = os.getcwd()\n",
    "images_path = os.path.join(cwd_path, 'image_dataset/dataset')\n",
    "\n",
    "# List the clouds in the dataset folder: 10 Clouds\n",
    "list_clouds = [name for name in os.listdir(images_path)]\n",
    "list_clouds.remove('.DS_Store')\n",
    "list_clouds.sort()\n",
    "list_clouds"
   ]
  },
  {
   "cell_type": "code",
   "execution_count": 3,
   "metadata": {},
   "outputs": [
    {
     "data": {
      "text/plain": [
       "11"
      ]
     },
     "execution_count": 3,
     "metadata": {},
     "output_type": "execute_result"
    }
   ],
   "source": [
    "# Create dictionary to store the list of image files based off cloud name\n",
    "dict_clouds = {}\n",
    "\n",
    "# Loop thru list of clouds\n",
    "for cloud in list_clouds:\n",
    "    # Get files based off each cloud\n",
    "    cloud_path = os.path.join(images_path, cloud + '/positive')\n",
    "    files = [os.path.join(cloud_path, f) for f in os.listdir(cloud_path) if f[0] != '.' and os.path.isfile(os.path.join(cloud_path, f)) ]\n",
    "    # add cloud and file list into dictionary\n",
    "    dict_clouds[cloud] = files\n",
    "\n",
    "len(dict_clouds)"
   ]
  },
  {
   "cell_type": "code",
   "execution_count": 4,
   "metadata": {},
   "outputs": [],
   "source": [
    "def prepare_image(img):\n",
    "    img = img_to_array(img)\n",
    "    img = np.expand_dims(img, axis=0)\n",
    "    img = preprocess_input(img)\n",
    "    # return the processed image\n",
    "    return img"
   ]
  },
  {
   "cell_type": "code",
   "execution_count": 6,
   "metadata": {
    "scrolled": true
   },
   "outputs": [
    {
     "name": "stdout",
     "output_type": "stream",
     "text": [
      "Initialize cloud:  altocumulus\n",
      "completed 100 images\n",
      "completed 200 images\n",
      "Initialize cloud:  altostratus\n",
      "completed 100 images\n",
      "completed 200 images\n",
      "completed 300 images\n",
      "completed 400 images\n",
      "Initialize cloud:  cirrocumulus\n",
      "completed 100 images\n",
      "Initialize cloud:  cirrostratus\n",
      "completed 100 images\n",
      "completed 200 images\n",
      "Initialize cloud:  cirrus\n",
      "completed 100 images\n",
      "completed 200 images\n",
      "Initialize cloud:  cumulonimbus\n",
      "completed 100 images\n",
      "completed 200 images\n",
      "Initialize cloud:  cumulus\n",
      "completed 100 images\n",
      "completed 200 images\n",
      "Initialize cloud:  nimbostratus\n",
      "completed 100 images\n",
      "completed 200 images\n",
      "Initialize cloud:  stratocumulus\n",
      "completed 100 images\n",
      "completed 200 images\n",
      "Initialize cloud:  stratus\n",
      "Initialize cloud:  unknown\n",
      "completed 100 images\n",
      "completed 200 images\n",
      "completed 300 images\n",
      "completed 400 images\n",
      "CPU times: user 5min 50s, sys: 3min 43s, total: 9min 34s\n",
      "Wall time: 9min 40s\n"
     ]
    }
   ],
   "source": [
    "%%time\n",
    "# from keras.preprocessing import image\n",
    "# Load the saved image using Keras and resize it to the\n",
    "# format of 224x224x3 pixels\n",
    "image_size = (224, 224, 3)\n",
    "# Declare output directory path\n",
    "outfile_path = os.path.join(cwd_path, 'XY_train')\n",
    "\n",
    "for ix_num, cloud in enumerate(list_clouds, start=0):\n",
    "    print(\"Initialize cloud: \", cloud)\n",
    "    # Initialize numpy clouds data with all zeros\n",
    "    X = np.zeros((1,224,224,3))\n",
    "    y = np.zeros((1,1))\n",
    "    \n",
    "    for ix_file, filepath in enumerate(dict_clouds[cloud], start=1):\n",
    "        im = keras.preprocessing.image.load_img(filepath, target_size=image_size, grayscale=False)\n",
    "        # Convert the 2D image to an array of pixel values\n",
    "        image_array = prepare_image(im)\n",
    "        X = np.append(X, image_array, axis=0)\n",
    "        # Createa new target\n",
    "        new_target = np.zeros((1,1))\n",
    "        # Set one hot from index of cloud\n",
    "        new_target[0] = ix_num\n",
    "        y = np.append(y, new_target, axis=0)\n",
    "        if(ix_file%100==0):\n",
    "            print(f\"completed {ix_file} images\")\n",
    "        \n",
    "    # Save completed Clouds X and y in /XY_train\n",
    "    np.save(os.path.join(outfile_path, f\"{cloud}_X.npy\"), X)\n",
    "    np.save(os.path.join(outfile_path, f\"{cloud}_y.npy\"), y)\n",
    "    "
   ]
  },
  {
   "cell_type": "code",
   "execution_count": null,
   "metadata": {},
   "outputs": [],
   "source": []
  },
  {
   "cell_type": "code",
   "execution_count": null,
   "metadata": {},
   "outputs": [],
   "source": []
  }
 ],
 "metadata": {
  "kernelspec": {
   "display_name": "Python 3",
   "language": "python",
   "name": "python3"
  },
  "language_info": {
   "codemirror_mode": {
    "name": "ipython",
    "version": 3
   },
   "file_extension": ".py",
   "mimetype": "text/x-python",
   "name": "python",
   "nbconvert_exporter": "python",
   "pygments_lexer": "ipython3",
   "version": "3.6.8"
  }
 },
 "nbformat": 4,
 "nbformat_minor": 2
}

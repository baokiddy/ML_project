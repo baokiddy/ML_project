{
  "nbformat": 4,
  "nbformat_minor": 0,
  "metadata": {
    "colab": {
      "name": "VGGNet_16.ipynb",
      "version": "0.3.2",
      "provenance": []
    },
    "language_info": {
      "codemirror_mode": {
        "name": "ipython",
        "version": 3
      },
      "file_extension": ".py",
      "mimetype": "text/x-python",
      "name": "python",
      "nbconvert_exporter": "python",
      "pygments_lexer": "ipython3",
      "version": "3.7.0"
    },
    "kernelspec": {
      "display_name": "Python 3",
      "language": "python",
      "name": "python3"
    },
    "accelerator": "GPU"
  },
  "cells": [
    {
      "cell_type": "code",
      "metadata": {
        "colab_type": "code",
        "id": "UHx9OVpweW_b",
        "colab": {}
      },
      "source": [
        "from keras.models import Sequential\n",
        "from keras.layers import ZeroPadding2D,Conv2D,MaxPooling2D\n",
        "from keras.preprocessing import image\n",
        "from keras.preprocessing.image import img_to_array\n",
        "import numpy as np\n",
        "from keras.layers import Dense"
      ],
      "execution_count": 0,
      "outputs": []
    },
    {
      "cell_type": "code",
      "metadata": {
        "colab_type": "code",
        "id": "0LKOumkCeW_p",
        "colab": {}
      },
      "source": [
        "# Altocumulus   - [0,0,0,1,0,0,0,0,0,0,0]\n",
        "# Altostratus   - [0,0,0,0,1,0,0,0,0,0,0]\n",
        "# Cirrocumulus  - [0,1,0,0,0,0,0,0,0,0,0]\n",
        "# Cirrostratus  - [0,0,1,0,0,0,0,0,0,0,0]\n",
        "# Cirrus        - [1,0,0,0,0,0,0,0,0,0,0]\n",
        "# Cumulonimbus  - [0,0,0,0,0,0,0,0,1,0,0]\n",
        "# Cumulus       - [0,0,0,0,0,0,0,1,0,0,0]\n",
        "# Nimbostratus  - [0,0,0,0,0,1,0,0,0,0,0]\n",
        "# Stratocumulus - [0,0,0,0,0,0,0,0,0,1,0]\n",
        "# Stratus       - [0,0,0,0,0,0,1,0,0,0,0]\n",
        "# Unknown       - [0,0,0,0,0,0,0,0,0,0,1]\n"
      ],
      "execution_count": 0,
      "outputs": []
    },
    {
      "cell_type": "code",
      "metadata": {
        "colab_type": "code",
        "id": "vMIy39TUeW_r",
        "outputId": "7ffb9cf3-0613-4eef-bdb8-10367406677d",
        "colab": {
          "base_uri": "https://localhost:8080/",
          "height": 34
        }
      },
      "source": [
        "from google.colab import drive\n",
        "drive.mount('/content/drive')"
      ],
      "execution_count": 19,
      "outputs": [
        {
          "output_type": "stream",
          "text": [
            "Drive already mounted at /content/drive; to attempt to forcibly remount, call drive.mount(\"/content/drive\", force_remount=True).\n"
          ],
          "name": "stdout"
        }
      ]
    },
    {
      "cell_type": "code",
      "metadata": {
        "colab_type": "code",
        "id": "UEtsddbJeW_t",
        "colab": {}
      },
      "source": [
        "import os\n",
        "cwd_path = os.getcwd()\n",
        "images_path = os.path.join(cwd_path, 'drive/My Drive/ML_project/image_dataset/dataset/')"
      ],
      "execution_count": 0,
      "outputs": []
    },
    {
      "cell_type": "code",
      "metadata": {
        "colab_type": "code",
        "id": "3B5IIgBUeW_w",
        "outputId": "fe544c99-cd75-48c5-8370-fd331a2b8b35",
        "colab": {
          "base_uri": "https://localhost:8080/",
          "height": 50
        }
      },
      "source": [
        "# Convert the image to a numpy array - create X_True - Altocumulus\n",
        "filename_true=[]\n",
        "for i in range(0,1000):\n",
        "    if i <10:\n",
        "        i=\"0000000\"+str(i)\n",
        "    elif i<100:\n",
        "        i=\"000000\"+str(i)\n",
        "    else: i=\"00000\"+str(i)\n",
        "    filename_true.append(i)\n",
        "X_true_Altocumulus=[]\n",
        "y_true_Altocumulus=[]\n",
        "count=0\n",
        "for index in range(len(filename_true)):\n",
        "    try:\n",
        "        filepath = images_path+\"altocumulus/\"+\"positive/\"+filename_true[index]+\".jpg\"\n",
        "        image_size = (224, 224)\n",
        "        im = image.load_img(filepath, target_size=image_size, grayscale=False)\n",
        "        pic = img_to_array(im)\n",
        "        y_true_Altocumulus.append([0,0,0,1,0,0,0,0,0,0,0])\n",
        "        X_true_Altocumulus.append(pic)        \n",
        "    except:\n",
        "        count=count+1\n",
        "\n",
        "print(len(X_true_Altocumulus))\n",
        "print(len(y_true_Altocumulus))\n"
      ],
      "execution_count": 21,
      "outputs": [
        {
          "output_type": "stream",
          "text": [
            "233\n",
            "233\n"
          ],
          "name": "stdout"
        }
      ]
    },
    {
      "cell_type": "code",
      "metadata": {
        "colab_type": "code",
        "id": "0UyCHM7seW_y",
        "outputId": "9313cca9-7c3b-4437-9672-ce2801c56923",
        "colab": {
          "base_uri": "https://localhost:8080/",
          "height": 50
        }
      },
      "source": [
        "# Convert the image to a numpy array - create X_True - Altostratus\n",
        "filename_true=[]\n",
        "for i in range(0,1000):\n",
        "    if i <10:\n",
        "        i=\"0000000\"+str(i)\n",
        "    elif i<100:\n",
        "        i=\"000000\"+str(i)\n",
        "    else: i=\"00000\"+str(i)\n",
        "    filename_true.append(i)\n",
        "X_true_Altostratus=[]\n",
        "y_true_Altostratus=[]\n",
        "count=0\n",
        "for index in range(len(filename_true)):\n",
        "    try:\n",
        "        filepath = images_path+\"altostratus/\"+\"Positive/\"+filename_true[index]+\".jpg\"\n",
        "        image_size = (224, 224)\n",
        "        im = image.load_img(filepath, target_size=image_size, grayscale=False)\n",
        "        pic = img_to_array(im)\n",
        "        y_true_Altostratus.append([0,0,0,0,1,0,0,0,0,0,0])\n",
        "        X_true_Altostratus.append(pic)        \n",
        "    except:\n",
        "        count=count+1\n",
        "print(len(X_true_Altostratus))\n",
        "print(len(y_true_Altostratus))\n",
        "\n"
      ],
      "execution_count": 22,
      "outputs": [
        {
          "output_type": "stream",
          "text": [
            "402\n",
            "402\n"
          ],
          "name": "stdout"
        }
      ]
    },
    {
      "cell_type": "code",
      "metadata": {
        "colab_type": "code",
        "id": "1F41stjeeW_1",
        "outputId": "f021e30f-5ca6-46dc-8d3e-6e66500eaf8f",
        "colab": {
          "base_uri": "https://localhost:8080/",
          "height": 50
        }
      },
      "source": [
        "# Convert the image to a numpy array - create X_True - Cirrocumulus\n",
        "filename_true=[]\n",
        "for i in range(0,1000):\n",
        "    if i <10:\n",
        "        i=\"0000000\"+str(i)\n",
        "    elif i<100:\n",
        "        i=\"000000\"+str(i)\n",
        "    else: i=\"00000\"+str(i)\n",
        "    filename_true.append(i)\n",
        "X_true_Cirrocumulus=[]\n",
        "y_true_Cirrocumulus=[]\n",
        "count=0\n",
        "for index in range(len(filename_true)):\n",
        "    try:\n",
        "        filepath = images_path+\"cirrocumulus/\"+\"positive/\"+filename_true[index]+\".jpg\"\n",
        "        image_size = (224, 224)\n",
        "        im = image.load_img(filepath, target_size=image_size, grayscale=False)\n",
        "        pic = img_to_array(im)\n",
        "        y_true_Cirrocumulus.append([0,1,0,0,0,0,0,0,0,0,0])\n",
        "        X_true_Cirrocumulus.append(pic)        \n",
        "    except:\n",
        "        count=count+1\n",
        "print(len(X_true_Cirrocumulus))\n",
        "print(len(y_true_Cirrocumulus))\n",
        "\n"
      ],
      "execution_count": 23,
      "outputs": [
        {
          "output_type": "stream",
          "text": [
            "161\n",
            "161\n"
          ],
          "name": "stdout"
        }
      ]
    },
    {
      "cell_type": "code",
      "metadata": {
        "colab_type": "code",
        "id": "v1BQMAPKeW_4",
        "outputId": "3a0c85e1-73d8-431a-c796-17dd184b0075",
        "colab": {
          "base_uri": "https://localhost:8080/",
          "height": 50
        }
      },
      "source": [
        "# Convert the image to a numpy array - create X_True - Cirrostratus\n",
        "filename_true=[]\n",
        "for i in range(0,1000):\n",
        "    if i <10:\n",
        "        i=\"0000000\"+str(i)\n",
        "    elif i<100:\n",
        "        i=\"000000\"+str(i)\n",
        "    else: i=\"00000\"+str(i)\n",
        "    filename_true.append(i)\n",
        "X_true_Cirrostratus=[]\n",
        "y_true_Cirrostratus=[]\n",
        "count=0\n",
        "for index in range(len(filename_true)):\n",
        "    try:\n",
        "        filepath = images_path+\"cirrostratus/\"+\"Positive/\"+filename_true[index]+\".jpg\"\n",
        "        image_size = (224, 224)\n",
        "        im = image.load_img(filepath, target_size=image_size, grayscale=False)\n",
        "        pic = img_to_array(im)\n",
        "        y_true_Cirrostratus.append([0,0,1,0,0,0,0,0,0,0,0])\n",
        "        X_true_Cirrostratus.append(pic)        \n",
        "    except:\n",
        "        count=count+1\n",
        "print(len(X_true_Cirrostratus))\n",
        "print(len(y_true_Cirrostratus))\n",
        "\n"
      ],
      "execution_count": 34,
      "outputs": [
        {
          "output_type": "stream",
          "text": [
            "246\n",
            "246\n"
          ],
          "name": "stdout"
        }
      ]
    },
    {
      "cell_type": "code",
      "metadata": {
        "colab_type": "code",
        "id": "s24LyqD2eW_6",
        "outputId": "d0708dda-8dbd-43c1-f512-125edb61c5d4",
        "colab": {
          "base_uri": "https://localhost:8080/",
          "height": 50
        }
      },
      "source": [
        "# Convert the image to a numpy array - create X_True - Cirrus\n",
        "filename_true=[]\n",
        "for i in range(0,1000):\n",
        "    if i <10:\n",
        "        i=\"0000000\"+str(i)\n",
        "    elif i<100:\n",
        "        i=\"000000\"+str(i)\n",
        "    else: i=\"00000\"+str(i)\n",
        "    filename_true.append(i)\n",
        "X_true_Cirrus=[]\n",
        "y_true_Cirrus=[]\n",
        "count=0\n",
        "for index in range(len(filename_true)):\n",
        "    try:\n",
        "        filepath = images_path+\"cirrus/\"+\"positive/\"+filename_true[index]+\".jpg\"\n",
        "        image_size = (224, 224)\n",
        "        im = image.load_img(filepath, target_size=image_size, grayscale=False)\n",
        "        pic = img_to_array(im)\n",
        "        y_true_Cirrus.append([1,0,0,0,0,0,0,0,0,0,0])\n",
        "        X_true_Cirrus.append(pic)        \n",
        "    except:\n",
        "        count=count+1\n",
        "print(len(X_true_Cirrus))\n",
        "print(len(y_true_Cirrus))\n",
        "\n"
      ],
      "execution_count": 25,
      "outputs": [
        {
          "output_type": "stream",
          "text": [
            "224\n",
            "224\n"
          ],
          "name": "stdout"
        }
      ]
    },
    {
      "cell_type": "code",
      "metadata": {
        "colab_type": "code",
        "id": "q7NLgRXPeW_9",
        "outputId": "bc69db20-2caa-412f-e732-0fb7cb0e3c50",
        "colab": {
          "base_uri": "https://localhost:8080/",
          "height": 50
        }
      },
      "source": [
        "# Convert the image to a numpy array - create X_True - Cumulonimbus\n",
        "filename_true=[]\n",
        "for i in range(0,1000):\n",
        "    if i <10:\n",
        "        i=\"0000000\"+str(i)\n",
        "    elif i<100:\n",
        "        i=\"000000\"+str(i)\n",
        "    else: i=\"00000\"+str(i)\n",
        "    filename_true.append(i)\n",
        "X_true_Cumulonimbus=[]\n",
        "y_true_Cumulonimbus=[]\n",
        "count=0\n",
        "for index in range(len(filename_true)):\n",
        "    try:\n",
        "        filepath = images_path+\"cumulonimbus/\"+\"positive/\"+filename_true[index]+\".jpg\"\n",
        "        image_size = (224, 224)\n",
        "        im = image.load_img(filepath, target_size=image_size, grayscale=False)\n",
        "        pic = img_to_array(im)\n",
        "        y_true_Cumulonimbus.append([0,0,0,0,0,0,0,0,1,0,0])\n",
        "        X_true_Cumulonimbus.append(pic)        \n",
        "    except:\n",
        "        count=count+1\n",
        "print(len(X_true_Cumulonimbus))\n",
        "print(len(y_true_Cumulonimbus))\n",
        "\n"
      ],
      "execution_count": 26,
      "outputs": [
        {
          "output_type": "stream",
          "text": [
            "260\n",
            "260\n"
          ],
          "name": "stdout"
        }
      ]
    },
    {
      "cell_type": "code",
      "metadata": {
        "colab_type": "code",
        "id": "FVvNgGS_eXAC",
        "outputId": "04f23696-0803-457b-8fb4-cf0dc236eaa3",
        "colab": {
          "base_uri": "https://localhost:8080/",
          "height": 50
        }
      },
      "source": [
        "# Convert the image to a numpy array - create X_True - Cumulus\n",
        "filename_true=[]\n",
        "for i in range(0,1000):\n",
        "    if i <10:\n",
        "        i=\"0000000\"+str(i)\n",
        "    elif i<100:\n",
        "        i=\"000000\"+str(i)\n",
        "    else: i=\"00000\"+str(i)\n",
        "    filename_true.append(i)\n",
        "X_true_Cumulus=[]\n",
        "y_true_Cumulus=[]\n",
        "count=0\n",
        "for index in range(len(filename_true)):\n",
        "    try:\n",
        "        filepath = images_path+\"cumulus/\"+\"positive/\"+filename_true[index]+\".jpg\"\n",
        "        image_size = (224, 224)\n",
        "        im = image.load_img(filepath, target_size=image_size, grayscale=False)\n",
        "        pic = img_to_array(im)\n",
        "        y_true_Cumulus.append([0,0,0,0,0,0,0,1,0,0,0])\n",
        "        X_true_Cumulus.append(pic)        \n",
        "    except:\n",
        "        count=count+1        \n",
        "print(len(X_true_Cumulus))\n",
        "print(len(y_true_Cumulus))\n"
      ],
      "execution_count": 27,
      "outputs": [
        {
          "output_type": "stream",
          "text": [
            "212\n",
            "212\n"
          ],
          "name": "stdout"
        }
      ]
    },
    {
      "cell_type": "code",
      "metadata": {
        "colab_type": "code",
        "id": "XLQ4mF2MeXAG",
        "outputId": "e20b1636-f611-497b-ccdd-ef7e986a722e",
        "colab": {
          "base_uri": "https://localhost:8080/",
          "height": 50
        }
      },
      "source": [
        "# Convert the image to a numpy array - create X_True - Nimbostratus\n",
        "filename_true=[]\n",
        "for i in range(0,1000):\n",
        "    if i <10:\n",
        "        i=\"0000000\"+str(i)\n",
        "    elif i<100:\n",
        "        i=\"000000\"+str(i)\n",
        "    else: i=\"00000\"+str(i)\n",
        "    filename_true.append(i)\n",
        "X_true_Nimbostratus=[]\n",
        "y_true_Nimbostratus=[]\n",
        "count=0\n",
        "for index in range(len(filename_true)):\n",
        "    try:\n",
        "        filepath = images_path+\"nimbostratus/\"+\"positive/\"+filename_true[index]+\".jpg\"\n",
        "        image_size = (224, 224)\n",
        "        im = image.load_img(filepath, target_size=image_size, grayscale=False)\n",
        "        pic = img_to_array(im)\n",
        "        y_true_Nimbostratus.append([0,0,0,0,0,1,0,0,0,0,0])\n",
        "        X_true_Nimbostratus.append(pic)        \n",
        "    except:\n",
        "        count=count+1        \n",
        "print(len(X_true_Nimbostratus))\n",
        "print(len(y_true_Nimbostratus))\n",
        "\n"
      ],
      "execution_count": 28,
      "outputs": [
        {
          "output_type": "stream",
          "text": [
            "204\n",
            "204\n"
          ],
          "name": "stdout"
        }
      ]
    },
    {
      "cell_type": "code",
      "metadata": {
        "colab_type": "code",
        "id": "pCVjqpJ2eXAH",
        "outputId": "ce75d6e1-0ccc-4837-e71c-05469031bfab",
        "colab": {
          "base_uri": "https://localhost:8080/",
          "height": 50
        }
      },
      "source": [
        "# Convert the image to a numpy array - create X_True - Stratocumulus\n",
        "filename_true=[]\n",
        "for i in range(0,1000):\n",
        "    if i <10:\n",
        "        i=\"0000000\"+str(i)\n",
        "    elif i<100:\n",
        "        i=\"000000\"+str(i)\n",
        "    else: i=\"00000\"+str(i)\n",
        "    filename_true.append(i)\n",
        "X_true_Stratocumulus=[]\n",
        "y_true_Stratocumulus=[]\n",
        "count=0\n",
        "for index in range(len(filename_true)):\n",
        "    try:\n",
        "        filepath = images_path+\"stratocumulus/\"+\"positive/\"+filename_true[index]+\".jpg\"\n",
        "        image_size = (224, 224)\n",
        "        im = image.load_img(filepath, target_size=image_size, grayscale=False)\n",
        "        pic = img_to_array(im)\n",
        "        y_true_Stratocumulus.append([0,0,0,0,0,0,0,0,0,1,0])\n",
        "        X_true_Stratocumulus.append(pic)        \n",
        "    except:\n",
        "        count=count+1        \n",
        "print(len(X_true_Stratocumulus))\n",
        "print(len(y_true_Stratocumulus))\n"
      ],
      "execution_count": 29,
      "outputs": [
        {
          "output_type": "stream",
          "text": [
            "197\n",
            "197\n"
          ],
          "name": "stdout"
        }
      ]
    },
    {
      "cell_type": "code",
      "metadata": {
        "colab_type": "code",
        "id": "3rHdfPzveXAK",
        "outputId": "bd6a0cfc-bcdc-4e5b-d6c3-1b631e5983a0",
        "colab": {
          "base_uri": "https://localhost:8080/",
          "height": 50
        }
      },
      "source": [
        "# Convert the image to a numpy array - create X_True - Stratus\n",
        "filename_true=[]\n",
        "for i in range(0,1000):\n",
        "    if i <10:\n",
        "        i=\"0000000\"+str(i)\n",
        "    elif i<100:\n",
        "        i=\"000000\"+str(i)\n",
        "    else: i=\"00000\"+str(i)\n",
        "    filename_true.append(i)\n",
        "X_true_Stratus=[]\n",
        "y_true_Stratus=[]\n",
        "count=0\n",
        "for index in range(len(filename_true)):\n",
        "    try:\n",
        "        filepath = images_path+\"stratus/\"+\"Positive/\"+filename_true[index]+\".jpg\"\n",
        "        image_size = (224, 224)\n",
        "        im = image.load_img(filepath, target_size=image_size, grayscale=False)\n",
        "        pic = img_to_array(im)\n",
        "        y_true_Stratus.append([0,0,0,0,0,0,1,0,0,0,0])\n",
        "        X_true_Stratus.append(pic)        \n",
        "    except:\n",
        "        count=count+1        \n",
        "print(len(X_true_Stratus))\n",
        "print(len(y_true_Stratus))\n"
      ],
      "execution_count": 30,
      "outputs": [
        {
          "output_type": "stream",
          "text": [
            "72\n",
            "72\n"
          ],
          "name": "stdout"
        }
      ]
    },
    {
      "cell_type": "code",
      "metadata": {
        "colab_type": "code",
        "id": "nMgXjNQMeXAM",
        "outputId": "be19b392-28d1-40e1-bb79-db9cb1886a7e",
        "colab": {
          "base_uri": "https://localhost:8080/",
          "height": 50
        }
      },
      "source": [
        "# Convert the image to a numpy array - create X_True - Unknown\n",
        "filename_true=[]\n",
        "for i in range(0,1000):\n",
        "    if i <10:\n",
        "        i=\"0000000\"+str(i)\n",
        "    elif i<100:\n",
        "        i=\"000000\"+str(i)\n",
        "    else: i=\"00000\"+str(i)\n",
        "    filename_true.append(i)\n",
        "X_true_unknown=[]\n",
        "y_true_unknown=[]\n",
        "count=0\n",
        "for index in range(len(filename_true)):\n",
        "    try:\n",
        "        filepath = images_path+\"unknown/\"+\"positive/\"+filename_true[index]+\".jpg\"\n",
        "        image_size = (224, 224)\n",
        "        im = image.load_img(filepath, target_size=image_size, grayscale=False)\n",
        "        pic = img_to_array(im)\n",
        "        y_true_unknown.append([0,0,0,0,0,0,0,0,0,0,1])\n",
        "        X_true_unknown.append(pic)        \n",
        "    except:\n",
        "        count=count+1        \n",
        "print(len(X_true_unknown))\n",
        "print(len(y_true_unknown))"
      ],
      "execution_count": 31,
      "outputs": [
        {
          "output_type": "stream",
          "text": [
            "419\n",
            "419\n"
          ],
          "name": "stdout"
        }
      ]
    },
    {
      "cell_type": "code",
      "metadata": {
        "colab_type": "code",
        "id": "3AUT4IhxeXAO",
        "outputId": "5324f2e2-c5e3-4a77-afbe-da06c6d20c7f",
        "colab": {
          "base_uri": "https://localhost:8080/",
          "height": 50
        }
      },
      "source": [
        "# Conatenate all X and y\n",
        "X=np.concatenate((X_true_Altocumulus, X_true_Altostratus, X_true_Cirrocumulus, \n",
        "                  X_true_Cirrostratus, X_true_Cirrus,X_true_Cumulonimbus,\n",
        "                  X_true_Cumulus, X_true_Nimbostratus, X_true_Stratocumulus, \n",
        "                  X_true_Stratus, X_true_unknown),axis=0)\n",
        "y=np.concatenate((y_true_Altocumulus, y_true_Altostratus, y_true_Cirrocumulus, \n",
        "                  y_true_Cirrostratus, y_true_Cirrus,y_true_Cumulonimbus,\n",
        "                  y_true_Cumulus, y_true_Nimbostratus, y_true_Stratocumulus, \n",
        "                  y_true_Stratus, y_true_unknown),axis=0)\n",
        "\n",
        "print(X.shape)\n",
        "print(y.shape)\n",
        "\n"
      ],
      "execution_count": 35,
      "outputs": [
        {
          "output_type": "stream",
          "text": [
            "(2630, 224, 224, 3)\n",
            "(2630, 11)\n"
          ],
          "name": "stdout"
        }
      ]
    },
    {
      "cell_type": "code",
      "metadata": {
        "colab_type": "code",
        "id": "-aDlhgdFeXAQ",
        "outputId": "56dab569-babd-4b4c-b08f-98a36353ecbf",
        "colab": {
          "base_uri": "https://localhost:8080/",
          "height": 84
        }
      },
      "source": [
        "# Use train_test_split to create training and testing data\n",
        "from sklearn.model_selection import train_test_split\n",
        "X_train, X_test, y_train, y_test = train_test_split(X, y, random_state=1)\n",
        "print(X_train.shape)\n",
        "print(y_train.shape)\n",
        "print(X_test.shape)\n",
        "print(y_test.shape)"
      ],
      "execution_count": 36,
      "outputs": [
        {
          "output_type": "stream",
          "text": [
            "(1972, 224, 224, 3)\n",
            "(1972, 11)\n",
            "(658, 224, 224, 3)\n",
            "(658, 11)\n"
          ],
          "name": "stdout"
        }
      ]
    },
    {
      "cell_type": "code",
      "metadata": {
        "colab_type": "code",
        "id": "Wj36f4fpeXAV",
        "colab": {
          "base_uri": "https://localhost:8080/",
          "height": 87
        },
        "outputId": "effe0054-6e1a-4492-e78f-4119c0e59d45"
      },
      "source": [
        "## import numpy as np\n",
        "from keras.optimizers import SGD\n",
        "sgd = SGD(lr=0.01, decay=1e-6, nesterov=True)\n",
        "\n",
        "import keras\n",
        "from keras.applications.vgg16 import (\n",
        "    VGG16, \n",
        "    preprocess_input, \n",
        "    decode_predictions)\n",
        "model = VGG16(include_top=True, weights=None,classes=11)\n"
      ],
      "execution_count": 37,
      "outputs": [
        {
          "output_type": "stream",
          "text": [
            "WARNING:tensorflow:From /usr/local/lib/python3.6/dist-packages/tensorflow/python/framework/op_def_library.py:263: colocate_with (from tensorflow.python.framework.ops) is deprecated and will be removed in a future version.\n",
            "Instructions for updating:\n",
            "Colocations handled automatically by placer.\n"
          ],
          "name": "stdout"
        }
      ]
    },
    {
      "cell_type": "code",
      "metadata": {
        "colab_type": "code",
        "id": "xeGCJG-SeXAY",
        "colab": {}
      },
      "source": [
        "# Compile the model\n",
        "model.compile(loss='categorical_crossentropy', optimizer=sgd, metrics=['accuracy'])\n",
        "# return model"
      ],
      "execution_count": 0,
      "outputs": []
    },
    {
      "cell_type": "code",
      "metadata": {
        "colab_type": "code",
        "id": "SV0g76KeeXAb",
        "outputId": "852209e7-f245-40d0-ee84-b6697d16e4bf",
        "colab": {
          "base_uri": "https://localhost:8080/",
          "height": 2486
        }
      },
      "source": [
        "# Fit the model\n",
        "# cnn_n = base_model()\n",
        "\n",
        "cnn_n = model\n",
        "cnn_n.summary()\n",
        "batch_size=50\n",
        "epochs=45\n",
        "cnn = cnn_n.fit(X_train, y_train, batch_size=batch_size, epochs=epochs, validation_data=(X_test,y_test), shuffle=True)\n"
      ],
      "execution_count": 39,
      "outputs": [
        {
          "output_type": "stream",
          "text": [
            "_________________________________________________________________\n",
            "Layer (type)                 Output Shape              Param #   \n",
            "=================================================================\n",
            "input_1 (InputLayer)         (None, 224, 224, 3)       0         \n",
            "_________________________________________________________________\n",
            "block1_conv1 (Conv2D)        (None, 224, 224, 64)      1792      \n",
            "_________________________________________________________________\n",
            "block1_conv2 (Conv2D)        (None, 224, 224, 64)      36928     \n",
            "_________________________________________________________________\n",
            "block1_pool (MaxPooling2D)   (None, 112, 112, 64)      0         \n",
            "_________________________________________________________________\n",
            "block2_conv1 (Conv2D)        (None, 112, 112, 128)     73856     \n",
            "_________________________________________________________________\n",
            "block2_conv2 (Conv2D)        (None, 112, 112, 128)     147584    \n",
            "_________________________________________________________________\n",
            "block2_pool (MaxPooling2D)   (None, 56, 56, 128)       0         \n",
            "_________________________________________________________________\n",
            "block3_conv1 (Conv2D)        (None, 56, 56, 256)       295168    \n",
            "_________________________________________________________________\n",
            "block3_conv2 (Conv2D)        (None, 56, 56, 256)       590080    \n",
            "_________________________________________________________________\n",
            "block3_conv3 (Conv2D)        (None, 56, 56, 256)       590080    \n",
            "_________________________________________________________________\n",
            "block3_pool (MaxPooling2D)   (None, 28, 28, 256)       0         \n",
            "_________________________________________________________________\n",
            "block4_conv1 (Conv2D)        (None, 28, 28, 512)       1180160   \n",
            "_________________________________________________________________\n",
            "block4_conv2 (Conv2D)        (None, 28, 28, 512)       2359808   \n",
            "_________________________________________________________________\n",
            "block4_conv3 (Conv2D)        (None, 28, 28, 512)       2359808   \n",
            "_________________________________________________________________\n",
            "block4_pool (MaxPooling2D)   (None, 14, 14, 512)       0         \n",
            "_________________________________________________________________\n",
            "block5_conv1 (Conv2D)        (None, 14, 14, 512)       2359808   \n",
            "_________________________________________________________________\n",
            "block5_conv2 (Conv2D)        (None, 14, 14, 512)       2359808   \n",
            "_________________________________________________________________\n",
            "block5_conv3 (Conv2D)        (None, 14, 14, 512)       2359808   \n",
            "_________________________________________________________________\n",
            "block5_pool (MaxPooling2D)   (None, 7, 7, 512)         0         \n",
            "_________________________________________________________________\n",
            "flatten (Flatten)            (None, 25088)             0         \n",
            "_________________________________________________________________\n",
            "fc1 (Dense)                  (None, 4096)              102764544 \n",
            "_________________________________________________________________\n",
            "fc2 (Dense)                  (None, 4096)              16781312  \n",
            "_________________________________________________________________\n",
            "predictions (Dense)          (None, 11)                45067     \n",
            "=================================================================\n",
            "Total params: 134,305,611\n",
            "Trainable params: 134,305,611\n",
            "Non-trainable params: 0\n",
            "_________________________________________________________________\n",
            "WARNING:tensorflow:From /usr/local/lib/python3.6/dist-packages/tensorflow/python/ops/math_ops.py:3066: to_int32 (from tensorflow.python.ops.math_ops) is deprecated and will be removed in a future version.\n",
            "Instructions for updating:\n",
            "Use tf.cast instead.\n",
            "Train on 1972 samples, validate on 658 samples\n",
            "Epoch 1/45\n",
            "1972/1972 [==============================] - 55s 28ms/step - loss: 2.3169 - acc: 0.1704 - val_loss: 2.3045 - val_acc: 0.1900\n",
            "Epoch 2/45\n",
            "1972/1972 [==============================] - 33s 17ms/step - loss: 2.2979 - acc: 0.1820 - val_loss: 2.3038 - val_acc: 0.1869\n",
            "Epoch 3/45\n",
            "1972/1972 [==============================] - 33s 17ms/step - loss: 2.3210 - acc: 0.1881 - val_loss: 2.3963 - val_acc: 0.1581\n",
            "Epoch 4/45\n",
            "1972/1972 [==============================] - 33s 17ms/step - loss: 2.3403 - acc: 0.1633 - val_loss: 2.2617 - val_acc: 0.2097\n",
            "Epoch 5/45\n",
            "1972/1972 [==============================] - 34s 17ms/step - loss: 2.2635 - acc: 0.2120 - val_loss: 2.3720 - val_acc: 0.1231\n",
            "Epoch 6/45\n",
            "1972/1972 [==============================] - 34s 17ms/step - loss: 2.2457 - acc: 0.2216 - val_loss: 2.5571 - val_acc: 0.1033\n",
            "Epoch 7/45\n",
            "1972/1972 [==============================] - 34s 17ms/step - loss: 2.2628 - acc: 0.2049 - val_loss: 2.2296 - val_acc: 0.1809\n",
            "Epoch 8/45\n",
            "1972/1972 [==============================] - 34s 17ms/step - loss: 2.2423 - acc: 0.2110 - val_loss: 2.3973 - val_acc: 0.1960\n",
            "Epoch 9/45\n",
            "1972/1972 [==============================] - 34s 17ms/step - loss: 2.1504 - acc: 0.2475 - val_loss: 2.1096 - val_acc: 0.2842\n",
            "Epoch 10/45\n",
            "1972/1972 [==============================] - 34s 17ms/step - loss: 2.0979 - acc: 0.2759 - val_loss: 2.0891 - val_acc: 0.2675\n",
            "Epoch 11/45\n",
            "1972/1972 [==============================] - 34s 17ms/step - loss: 2.1205 - acc: 0.2693 - val_loss: 2.1520 - val_acc: 0.2310\n",
            "Epoch 12/45\n",
            "1972/1972 [==============================] - 34s 17ms/step - loss: 2.0369 - acc: 0.2987 - val_loss: 2.0966 - val_acc: 0.2128\n",
            "Epoch 13/45\n",
            "1972/1972 [==============================] - 34s 17ms/step - loss: 1.9986 - acc: 0.3119 - val_loss: 2.1398 - val_acc: 0.2340\n",
            "Epoch 14/45\n",
            "1972/1972 [==============================] - 34s 17ms/step - loss: 1.9271 - acc: 0.3291 - val_loss: 2.2518 - val_acc: 0.2842\n",
            "Epoch 15/45\n",
            "1972/1972 [==============================] - 34s 17ms/step - loss: 1.9120 - acc: 0.3327 - val_loss: 1.9197 - val_acc: 0.3298\n",
            "Epoch 16/45\n",
            "1972/1972 [==============================] - 34s 17ms/step - loss: 2.0547 - acc: 0.2819 - val_loss: 2.2973 - val_acc: 0.1793\n",
            "Epoch 17/45\n",
            "1972/1972 [==============================] - 34s 17ms/step - loss: 1.9476 - acc: 0.3240 - val_loss: 1.9181 - val_acc: 0.3146\n",
            "Epoch 18/45\n",
            "1972/1972 [==============================] - 34s 17ms/step - loss: 1.8433 - acc: 0.3773 - val_loss: 2.0633 - val_acc: 0.2523\n",
            "Epoch 19/45\n",
            "1972/1972 [==============================] - 34s 17ms/step - loss: 1.7321 - acc: 0.4047 - val_loss: 2.2395 - val_acc: 0.2310\n",
            "Epoch 20/45\n",
            "1972/1972 [==============================] - 34s 17ms/step - loss: 1.7478 - acc: 0.4108 - val_loss: 1.8565 - val_acc: 0.3587\n",
            "Epoch 21/45\n",
            "1972/1972 [==============================] - 34s 17ms/step - loss: 1.5903 - acc: 0.4665 - val_loss: 2.2301 - val_acc: 0.2660\n",
            "Epoch 22/45\n",
            "1972/1972 [==============================] - 34s 17ms/step - loss: 1.4297 - acc: 0.5076 - val_loss: 2.7014 - val_acc: 0.3040\n",
            "Epoch 23/45\n",
            "1972/1972 [==============================] - 34s 17ms/step - loss: 1.3257 - acc: 0.5456 - val_loss: 2.2642 - val_acc: 0.3875\n",
            "Epoch 24/45\n",
            "1972/1972 [==============================] - 34s 17ms/step - loss: 1.2596 - acc: 0.5928 - val_loss: 2.0796 - val_acc: 0.4301\n",
            "Epoch 25/45\n",
            "1972/1972 [==============================] - 34s 17ms/step - loss: 1.1484 - acc: 0.6187 - val_loss: 2.2547 - val_acc: 0.4210\n",
            "Epoch 26/45\n",
            "1972/1972 [==============================] - 34s 17ms/step - loss: 0.9614 - acc: 0.6902 - val_loss: 3.3370 - val_acc: 0.3100\n",
            "Epoch 27/45\n",
            "1972/1972 [==============================] - 35s 17ms/step - loss: 0.8165 - acc: 0.7449 - val_loss: 2.8450 - val_acc: 0.4514\n",
            "Epoch 28/45\n",
            "1972/1972 [==============================] - 34s 17ms/step - loss: 0.6782 - acc: 0.8022 - val_loss: 2.8490 - val_acc: 0.4347\n",
            "Epoch 29/45\n",
            "1972/1972 [==============================] - 34s 17ms/step - loss: 0.5300 - acc: 0.8600 - val_loss: 2.5129 - val_acc: 0.3465\n",
            "Epoch 30/45\n",
            "1972/1972 [==============================] - 34s 17ms/step - loss: 0.4479 - acc: 0.8900 - val_loss: 2.3289 - val_acc: 0.5015\n",
            "Epoch 31/45\n",
            "1972/1972 [==============================] - 34s 17ms/step - loss: 0.3878 - acc: 0.9189 - val_loss: 1.8453 - val_acc: 0.5000\n",
            "Epoch 32/45\n",
            "1972/1972 [==============================] - 34s 17ms/step - loss: 0.3088 - acc: 0.9361 - val_loss: 1.8522 - val_acc: 0.5015\n",
            "Epoch 33/45\n",
            "1972/1972 [==============================] - 34s 17ms/step - loss: 0.3283 - acc: 0.9295 - val_loss: 1.7704 - val_acc: 0.5182\n",
            "Epoch 34/45\n",
            "1972/1972 [==============================] - 34s 17ms/step - loss: 0.2673 - acc: 0.9432 - val_loss: 1.8136 - val_acc: 0.5471\n",
            "Epoch 35/45\n",
            "1972/1972 [==============================] - 34s 17ms/step - loss: 0.2480 - acc: 0.9432 - val_loss: 1.8430 - val_acc: 0.5593\n",
            "Epoch 36/45\n",
            "1972/1972 [==============================] - 34s 17ms/step - loss: 0.2178 - acc: 0.9528 - val_loss: 1.7819 - val_acc: 0.5578\n",
            "Epoch 37/45\n",
            "1972/1972 [==============================] - 34s 17ms/step - loss: 0.2233 - acc: 0.9468 - val_loss: 1.5631 - val_acc: 0.5729\n",
            "Epoch 38/45\n",
            "1972/1972 [==============================] - 34s 17ms/step - loss: 0.2028 - acc: 0.9468 - val_loss: 1.8218 - val_acc: 0.5623\n",
            "Epoch 39/45\n",
            "1972/1972 [==============================] - 34s 17ms/step - loss: 0.1758 - acc: 0.9528 - val_loss: 1.6590 - val_acc: 0.5623\n",
            "Epoch 40/45\n",
            "1972/1972 [==============================] - 34s 17ms/step - loss: 0.1692 - acc: 0.9584 - val_loss: 1.4962 - val_acc: 0.5562\n",
            "Epoch 41/45\n",
            "1972/1972 [==============================] - 35s 17ms/step - loss: 0.1770 - acc: 0.9528 - val_loss: 1.6459 - val_acc: 0.5805\n",
            "Epoch 42/45\n",
            "1972/1972 [==============================] - 34s 17ms/step - loss: 0.1700 - acc: 0.9508 - val_loss: 1.4888 - val_acc: 0.5775\n",
            "Epoch 43/45\n",
            "1972/1972 [==============================] - 34s 17ms/step - loss: 0.1584 - acc: 0.9523 - val_loss: 1.7006 - val_acc: 0.5699\n",
            "Epoch 44/45\n",
            "1972/1972 [==============================] - 34s 17ms/step - loss: 0.1715 - acc: 0.9462 - val_loss: 1.8237 - val_acc: 0.5532\n",
            "Epoch 45/45\n",
            "1972/1972 [==============================] - 34s 17ms/step - loss: 0.1449 - acc: 0.9518 - val_loss: 1.6563 - val_acc: 0.5745\n"
          ],
          "name": "stdout"
        }
      ]
    },
    {
      "cell_type": "code",
      "metadata": {
        "colab_type": "code",
        "id": "cQArvUHIeXAi",
        "outputId": "2862e3ab-e72d-4da8-e634-7693a003f4ba",
        "colab": {
          "base_uri": "https://localhost:8080/",
          "height": 699
        }
      },
      "source": [
        "# Plots for trainng and testing process: loss and accuracy\n",
        "import matplotlib.pyplot as plt\n",
        "plt.figure(0)\n",
        "plt.plot(cnn.history['acc'],'r')\n",
        "plt.plot(cnn.history['val_acc'],'g')\n",
        "plt.xticks(np.arange(0, 11, 2.0))\n",
        "plt.rcParams['figure.figsize'] = (8, 6)\n",
        "plt.xlabel(\"Num of Epochs\")\n",
        "plt.ylabel(\"Accuracy\")\n",
        "plt.title(\"Training Accuracy vs Validation Accuracy\")\n",
        "plt.legend(['train','validation'])\n",
        "\n",
        "plt.figure(1)\n",
        "plt.plot(cnn.history['loss'],'r')\n",
        "plt.plot(cnn.history['val_loss'],'g')\n",
        "plt.xticks(np.arange(0, 11, 2.0))\n",
        "plt.rcParams['figure.figsize'] = (8, 6)\n",
        "plt.xlabel(\"Num of Epochs\")\n",
        "plt.ylabel(\"Loss\")\n",
        "plt.title(\"Training Loss vs Validation Loss\")\n",
        "plt.legend(['train','validation'])\n",
        "plt.show()\n",
        "\n",
        "scores = cnn_n.evaluate(X_test, y_test, verbose=0)\n",
        "print(\"Accuracy: %.2f%%\" % (scores[1]*100))"
      ],
      "execution_count": 40,
      "outputs": [
        {
          "output_type": "display_data",
          "data": {
            "image/png": "[encoded data removed]",
            "text/plain": [
              "<Figure size 432x288 with 1 Axes>"
            ]
          },
          "metadata": {
            "tags": []
          }
        },
        {
          "output_type": "display_data",
          "data": {
            "image/png": "[encoded data removed]",
            "text/plain": [
              "<Figure size 576x432 with 1 Axes>"
            ]
          },
          "metadata": {
            "tags": []
          }
        },
        {
          "output_type": "stream",
          "text": [
            "Accuracy: 57.45%\n"
          ],
          "name": "stdout"
        }
      ]
    },
    {
      "cell_type": "code",
      "metadata": {
        "colab_type": "code",
        "id": "yEWsdZsueXAf",
        "colab": {}
      },
      "source": [
        "# import tensorflow as tf\n",
        "# from sklearn.metrics import confusion_matrix\n",
        "# predictions = model.predict(X_test)\n",
        "# predictions.shape\n",
        "# sess = tf.InteractiveSession()\n",
        "# indexes = tf.argmax(predictions, axis=1)\n",
        "\n",
        "# prayers = indexes.eval()\n",
        "\n",
        "# conf_mx = confusion_matrix(y_test, prayers)\n",
        "# conf_mx"
      ],
      "execution_count": 0,
      "outputs": []
    },
    {
      "cell_type": "code",
      "metadata": {
        "colab_type": "code",
        "id": "IhiPTAPZeXAk",
        "colab": {}
      },
      "source": [
        "model.save(\"drive/My Drive/dataset/vggnet16.h5\")\n"
      ],
      "execution_count": 0,
      "outputs": []
    },
    {
      "cell_type": "code",
      "metadata": {
        "colab_type": "code",
        "id": "Xc44KWPBeXAo",
        "colab": {}
      },
      "source": [
        ""
      ],
      "execution_count": 0,
      "outputs": []
    },
    {
      "cell_type": "code",
      "metadata": {
        "colab_type": "code",
        "id": "olW5sdIVeXAS",
        "colab": {}
      },
      "source": [
        ""
      ],
      "execution_count": 0,
      "outputs": []
    },
    {
      "cell_type": "code",
      "metadata": {
        "id": "hAXIrOKyOcxm",
        "colab_type": "code",
        "colab": {}
      },
      "source": [
        ""
      ],
      "execution_count": 0,
      "outputs": []
    }
  ]
}